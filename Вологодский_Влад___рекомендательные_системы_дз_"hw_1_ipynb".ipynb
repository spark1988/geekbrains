{
  "cells": [
    {
      "cell_type": "markdown",
      "metadata": {
        "id": "view-in-github",
        "colab_type": "text"
      },
      "source": [
        "<a href=\"https://colab.research.google.com/github/spark1988/geekbrains/blob/main/%D0%92%D0%BE%D0%BB%D0%BE%D0%B3%D0%BE%D0%B4%D1%81%D0%BA%D0%B8%D0%B9_%D0%92%D0%BB%D0%B0%D0%B4___%D1%80%D0%B5%D0%BA%D0%BE%D0%BC%D0%B5%D0%BD%D0%B4%D0%B0%D1%82%D0%B5%D0%BB%D1%8C%D0%BD%D1%8B%D0%B5_%D1%81%D0%B8%D1%81%D1%82%D0%B5%D0%BC%D1%8B_%D0%B4%D0%B7_%22hw_1_ipynb%22.ipynb\" target=\"_parent\"><img src=\"https://colab.research.google.com/assets/colab-badge.svg\" alt=\"Open In Colab\"/></a>"
      ]
    },
    {
      "cell_type": "markdown",
      "id": "425a10d7-caa9-4f84-abff-f528aeb4ab80",
      "metadata": {
        "id": "425a10d7-caa9-4f84-abff-f528aeb4ab80"
      },
      "source": [
        "# Домашнее задание №1\n",
        "\n",
        "На семинаре мы проходили метрики, необходимо реализовать некоторые из них"
      ]
    },
    {
      "cell_type": "code",
      "execution_count": 16,
      "id": "6f4acf2d-e8a0-469a-8463-6dc26521c554",
      "metadata": {
        "id": "6f4acf2d-e8a0-469a-8463-6dc26521c554"
      },
      "outputs": [],
      "source": [
        "import numpy as np\n",
        "import pandas as pd"
      ]
    },
    {
      "cell_type": "markdown",
      "id": "38a80a25-4ea6-49c9-a0f4-c7fc2a80dcc1",
      "metadata": {
        "id": "38a80a25-4ea6-49c9-a0f4-c7fc2a80dcc1"
      },
      "source": [
        "## Задание 1. Реализовать метрики Recall@k и  Money Recall@k\n",
        "\n",
        "*Recall* - доля рекомендованных товаров среди релевантных = Какой % купленных товаров был среди рекомендованных\n",
        "\n",
        "$$\\Large Recall@K(i) = \\frac {\\sum_{j=1}^{K}\\mathbb{1}_{r_{ij}}}{|Rel_i|}$$\n",
        "\n",
        "$\\Large |Rel_i|$ -- количество релевантных товаров для пользователя $i$\n",
        "\n",
        "$$\\Large MoneyRecall@K(i) = \\frac {\\sum_{j=1}^{K}\\mathbb{1}_{r_{ij}}\\cdot Price(j)}{\\sum_{s\\in Rel_i}Price(s)}$$\n"
      ]
    },
    {
      "cell_type": "code",
      "execution_count": 17,
      "id": "34a7db81-664c-4c9b-92c0-d565fa5487fc",
      "metadata": {
        "id": "34a7db81-664c-4c9b-92c0-d565fa5487fc"
      },
      "outputs": [],
      "source": [
        "def recall_at_k(recommended_list, bought_list, k=5):\n",
        "    \n",
        "  bought_list = np.array(bought_list)\n",
        "  recommended_list = np.array(recommended_list)[:k]\n",
        "  \n",
        "  flags = np.isin(bought_list, recommended_list)\n",
        "    \n",
        "  return flags.sum() / len(bought_list)\n",
        "\n",
        "\n",
        "def money_recall_at_k(recommended_list, bought_list, prices_recommended, prices_bought, k=5):\n",
        "    bought_list = np.array(bought_list)\n",
        "    recommended_list = np.array(recommended_list)\n",
        "    prices_recommended = np.array(prices_recommended)\n",
        "    prices_bought = np.array(prices_bought)\n",
        "    \n",
        "    flags = np.isin(recommended_list, bought_list)\n",
        "    \n",
        "    return np.dot(flags, prices_recommended)/prices_bought.sum()"
      ]
    },
    {
      "cell_type": "markdown",
      "id": "b42d4d0d-6073-47b6-ad54-586a477405e5",
      "metadata": {
        "id": "b42d4d0d-6073-47b6-ad54-586a477405e5"
      },
      "source": [
        "## Задание 2. Реализовать метрику MRR@k\n",
        "\n",
        "Mean Reciprocal Rank\n",
        "\n",
        "- Считаем для первых k рекоммендаций\n",
        "- Найти ранк первого релевантного предсказания $\\Large rank_j$\n",
        "- Посчитать reciprocal rank = $\\Large\\frac{1}{rank_j}$\n",
        "\n",
        "$$\\Large  MMR(i)@k=\\frac {1}{\\min\\limits_{j\\in Rel(i)} rank_j}$$"
      ]
    },
    {
      "cell_type": "code",
      "execution_count": 18,
      "id": "9c8940da-3621-4a54-8236-810a42ed4b77",
      "metadata": {
        "id": "9c8940da-3621-4a54-8236-810a42ed4b77"
      },
      "outputs": [],
      "source": [
        "def mrr_at_k(recommended_list, bought_list, k=5):\n",
        "    bought_list = np.array(bought_list)\n",
        "    recommended_list = np.array(recommended_list)\n",
        "    amount_user = len(bought_list)\n",
        "    rr = []\n",
        "    for i in np.arange(amount_user):    \n",
        "        relevant_indexes = np.nonzero(np.isin(recommended_list[i][:k], bought_list[i]))[0]\n",
        "        if len(relevant_indexes) != 0:\n",
        "            rr.append(1/(relevant_indexes[0]+1))\n",
        "    \n",
        "    if len(rr) == 0:\n",
        "        return 0\n",
        "    \n",
        "    return sum(rr)/amount_user"
      ]
    },
    {
      "cell_type": "markdown",
      "id": "1c3008cc-fd9e-44c6-8913-43d71ffb9cd7",
      "metadata": {
        "id": "1c3008cc-fd9e-44c6-8913-43d71ffb9cd7"
      },
      "source": [
        "## Задание 3*. Реализовать метрику nDCG@k\n",
        "Normalized discounted cumulative gain. Эту метрику реализовать будет немного сложнее.\n",
        "\n",
        "$$\\Large DCG@K(i) = \\sum_{j=1}^{K}\\frac{\\mathbb{1}_{r_{ij}}}{\\log_2 (j+1)}$$\n",
        "\n",
        "\n",
        "$\\Large \\mathbb{1}_{r_{ij}}$ -- индикаторная функция показывает что пользователь $i$ провзаимодействовал с продуктом $j$\n",
        "\n",
        "Для подсчета $nDCG$ нам необходимо найти максимально возможный $DCG$ для пользователя $i$  и рекомендаций длины $K$.\n",
        "Максимальный $DCG$ достигается когда мы порекомендовали максимально возможное количество релевантных продуктов и все они в начале списка рекомендаций.\n",
        "\n",
        "$$\\Large IDCG@K(i) = max(DCG@K(i)) = \\sum_{j=1}^{K}\\frac{\\mathbb{1}_{j\\le|Rel_i|}}{\\log_2 (j+1)}$$\n",
        "\n",
        "$$\\Large nDCG@K(i) = \\frac {DCG@K(i)}{IDCG@K(i)}$$\n",
        "\n",
        "$\\Large |Rel_i|$ -- количество релевантных продуктов для пользователя $i$\n",
        "\n"
      ]
    },
    {
      "cell_type": "code",
      "execution_count": 19,
      "id": "67d7e53c-dfd8-4423-a107-f85880a45c7e",
      "metadata": {
        "id": "67d7e53c-dfd8-4423-a107-f85880a45c7e"
      },
      "outputs": [],
      "source": [
        "import math\n",
        "def ndcg_at_k(recommended_list, bought_list, k=5):\n",
        "\n",
        "    bought_list = np.array(bought_list)\n",
        "    recommended_list = np.array(recommended_list)\n",
        "    \n",
        "    flags = np.isin(recommended_list, bought_list)\n",
        "    rank_list = []\n",
        "    for i in np.arange(len(recommended_list)):\n",
        "        if i < 2:\n",
        "            rank_list.append(i+1)\n",
        "        else:\n",
        "            rank_list.append(math.log2(i+1))\n",
        "    if len(recommended_list) == 0:\n",
        "        return 0\n",
        "    dcg = sum(np.divide(flags, rank_list)) / len(recommended_list)\n",
        "\n",
        "    i_dcg = sum(np.divide(1, rank_list)) / len(recommended_list)\n",
        "\n",
        "    \n",
        "    return dcg/i_dcg\n",
        "    "
      ]
    }
  ],
  "metadata": {
    "kernelspec": {
      "display_name": "Python 3 (ipykernel)",
      "language": "python",
      "name": "python3"
    },
    "language_info": {
      "codemirror_mode": {
        "name": "ipython",
        "version": 3
      },
      "file_extension": ".py",
      "mimetype": "text/x-python",
      "name": "python",
      "nbconvert_exporter": "python",
      "pygments_lexer": "ipython3",
      "version": "3.9.12"
    },
    "colab": {
      "provenance": [],
      "include_colab_link": true
    }
  },
  "nbformat": 4,
  "nbformat_minor": 5
}
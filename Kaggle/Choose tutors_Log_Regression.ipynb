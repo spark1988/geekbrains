{
 "cells": [
  {
   "cell_type": "code",
   "execution_count": 53,
   "id": "2312dc39",
   "metadata": {},
   "outputs": [],
   "source": [
    "import numpy as np\n",
    "import pandas as pd\n",
    "import matplotlib\n",
    "import matplotlib.pyplot as plt\n",
    "import seaborn as sns\n",
    "from sklearn.metrics import classification_report, f1_score, precision_score, recall_score\n",
    "from sklearn.metrics import r2_score\n",
    "from sklearn.model_selection import train_test_split\n",
    "\n",
    "%matplotlib inline"
   ]
  },
  {
   "cell_type": "code",
   "execution_count": 54,
   "id": "701a52de",
   "metadata": {},
   "outputs": [],
   "source": [
    "train = pd.read_csv('../../материалы/Final Kaggle/train.csv')\n",
    "test_df = pd.read_csv('../../материалы/Final Kaggle/test.csv')"
   ]
  },
  {
   "cell_type": "code",
   "execution_count": 55,
   "id": "8467187b",
   "metadata": {},
   "outputs": [
    {
     "data": {
      "text/plain": [
       "0    8891\n",
       "1    1109\n",
       "Name: choose, dtype: int64"
      ]
     },
     "execution_count": 55,
     "metadata": {},
     "output_type": "execute_result"
    }
   ],
   "source": [
    "train['choose'].value_counts()"
   ]
  },
  {
   "cell_type": "code",
   "execution_count": 56,
   "id": "d1dca180",
   "metadata": {},
   "outputs": [
    {
     "name": "stdout",
     "output_type": "stream",
     "text": [
      "<class 'pandas.core.frame.DataFrame'>\n",
      "RangeIndex: 10000 entries, 0 to 9999\n",
      "Data columns (total 13 columns):\n",
      " #   Column               Non-Null Count  Dtype  \n",
      "---  ------               --------------  -----  \n",
      " 0   Id                   10000 non-null  int64  \n",
      " 1   age                  10000 non-null  float64\n",
      " 2   years_of_experience  10000 non-null  float64\n",
      " 3   lesson_price         10000 non-null  float64\n",
      " 4   qualification        10000 non-null  float64\n",
      " 5   physics              10000 non-null  float64\n",
      " 6   chemistry            10000 non-null  float64\n",
      " 7   biology              10000 non-null  float64\n",
      " 8   english              10000 non-null  float64\n",
      " 9   geography            10000 non-null  float64\n",
      " 10  history              10000 non-null  float64\n",
      " 11  mean_exam_points     10000 non-null  float64\n",
      " 12  choose               10000 non-null  int64  \n",
      "dtypes: float64(11), int64(2)\n",
      "memory usage: 1015.8 KB\n",
      "<class 'pandas.core.frame.DataFrame'>\n",
      "RangeIndex: 10000 entries, 0 to 9999\n",
      "Data columns (total 12 columns):\n",
      " #   Column               Non-Null Count  Dtype  \n",
      "---  ------               --------------  -----  \n",
      " 0   Id                   10000 non-null  int64  \n",
      " 1   age                  10000 non-null  float64\n",
      " 2   years_of_experience  10000 non-null  float64\n",
      " 3   lesson_price         10000 non-null  float64\n",
      " 4   qualification        10000 non-null  float64\n",
      " 5   physics              10000 non-null  float64\n",
      " 6   chemistry            10000 non-null  float64\n",
      " 7   biology              10000 non-null  float64\n",
      " 8   english              10000 non-null  float64\n",
      " 9   geography            10000 non-null  float64\n",
      " 10  history              10000 non-null  float64\n",
      " 11  mean_exam_points     10000 non-null  float64\n",
      "dtypes: float64(11), int64(1)\n",
      "memory usage: 937.6 KB\n"
     ]
    },
    {
     "data": {
      "text/plain": [
       "(None, None)"
      ]
     },
     "execution_count": 56,
     "metadata": {},
     "output_type": "execute_result"
    }
   ],
   "source": [
    "train.info(), test_df.info()"
   ]
  },
  {
   "cell_type": "code",
   "execution_count": 57,
   "id": "6c11c188",
   "metadata": {},
   "outputs": [
    {
     "data": {
      "text/html": [
       "<div>\n",
       "<style scoped>\n",
       "    .dataframe tbody tr th:only-of-type {\n",
       "        vertical-align: middle;\n",
       "    }\n",
       "\n",
       "    .dataframe tbody tr th {\n",
       "        vertical-align: top;\n",
       "    }\n",
       "\n",
       "    .dataframe thead th {\n",
       "        text-align: right;\n",
       "    }\n",
       "</style>\n",
       "<table border=\"1\" class=\"dataframe\">\n",
       "  <thead>\n",
       "    <tr style=\"text-align: right;\">\n",
       "      <th></th>\n",
       "      <th>count</th>\n",
       "      <th>mean</th>\n",
       "      <th>std</th>\n",
       "      <th>min</th>\n",
       "      <th>25%</th>\n",
       "      <th>50%</th>\n",
       "      <th>75%</th>\n",
       "      <th>max</th>\n",
       "    </tr>\n",
       "  </thead>\n",
       "  <tbody>\n",
       "    <tr>\n",
       "      <th>Id</th>\n",
       "      <td>10000.0</td>\n",
       "      <td>4999.5000</td>\n",
       "      <td>2886.895680</td>\n",
       "      <td>0.0</td>\n",
       "      <td>2499.75</td>\n",
       "      <td>4999.5</td>\n",
       "      <td>7499.25</td>\n",
       "      <td>9999.0</td>\n",
       "    </tr>\n",
       "    <tr>\n",
       "      <th>age</th>\n",
       "      <td>10000.0</td>\n",
       "      <td>45.8009</td>\n",
       "      <td>8.030274</td>\n",
       "      <td>23.0</td>\n",
       "      <td>40.00</td>\n",
       "      <td>46.0</td>\n",
       "      <td>51.00</td>\n",
       "      <td>68.0</td>\n",
       "    </tr>\n",
       "    <tr>\n",
       "      <th>years_of_experience</th>\n",
       "      <td>10000.0</td>\n",
       "      <td>1.9748</td>\n",
       "      <td>1.766883</td>\n",
       "      <td>0.0</td>\n",
       "      <td>0.00</td>\n",
       "      <td>2.0</td>\n",
       "      <td>3.00</td>\n",
       "      <td>9.0</td>\n",
       "    </tr>\n",
       "    <tr>\n",
       "      <th>lesson_price</th>\n",
       "      <td>10000.0</td>\n",
       "      <td>1702.4400</td>\n",
       "      <td>523.789062</td>\n",
       "      <td>200.0</td>\n",
       "      <td>1300.00</td>\n",
       "      <td>1550.0</td>\n",
       "      <td>2150.00</td>\n",
       "      <td>3950.0</td>\n",
       "    </tr>\n",
       "    <tr>\n",
       "      <th>qualification</th>\n",
       "      <td>10000.0</td>\n",
       "      <td>1.7243</td>\n",
       "      <td>0.798845</td>\n",
       "      <td>1.0</td>\n",
       "      <td>1.00</td>\n",
       "      <td>2.0</td>\n",
       "      <td>2.00</td>\n",
       "      <td>4.0</td>\n",
       "    </tr>\n",
       "    <tr>\n",
       "      <th>physics</th>\n",
       "      <td>10000.0</td>\n",
       "      <td>0.3706</td>\n",
       "      <td>0.482990</td>\n",
       "      <td>0.0</td>\n",
       "      <td>0.00</td>\n",
       "      <td>0.0</td>\n",
       "      <td>1.00</td>\n",
       "      <td>1.0</td>\n",
       "    </tr>\n",
       "    <tr>\n",
       "      <th>chemistry</th>\n",
       "      <td>10000.0</td>\n",
       "      <td>0.1215</td>\n",
       "      <td>0.326724</td>\n",
       "      <td>0.0</td>\n",
       "      <td>0.00</td>\n",
       "      <td>0.0</td>\n",
       "      <td>0.00</td>\n",
       "      <td>1.0</td>\n",
       "    </tr>\n",
       "    <tr>\n",
       "      <th>biology</th>\n",
       "      <td>10000.0</td>\n",
       "      <td>0.1172</td>\n",
       "      <td>0.321675</td>\n",
       "      <td>0.0</td>\n",
       "      <td>0.00</td>\n",
       "      <td>0.0</td>\n",
       "      <td>0.00</td>\n",
       "      <td>1.0</td>\n",
       "    </tr>\n",
       "    <tr>\n",
       "      <th>english</th>\n",
       "      <td>10000.0</td>\n",
       "      <td>0.0591</td>\n",
       "      <td>0.235824</td>\n",
       "      <td>0.0</td>\n",
       "      <td>0.00</td>\n",
       "      <td>0.0</td>\n",
       "      <td>0.00</td>\n",
       "      <td>1.0</td>\n",
       "    </tr>\n",
       "    <tr>\n",
       "      <th>geography</th>\n",
       "      <td>10000.0</td>\n",
       "      <td>0.0277</td>\n",
       "      <td>0.164120</td>\n",
       "      <td>0.0</td>\n",
       "      <td>0.00</td>\n",
       "      <td>0.0</td>\n",
       "      <td>0.00</td>\n",
       "      <td>1.0</td>\n",
       "    </tr>\n",
       "    <tr>\n",
       "      <th>history</th>\n",
       "      <td>10000.0</td>\n",
       "      <td>0.0180</td>\n",
       "      <td>0.132958</td>\n",
       "      <td>0.0</td>\n",
       "      <td>0.00</td>\n",
       "      <td>0.0</td>\n",
       "      <td>0.00</td>\n",
       "      <td>1.0</td>\n",
       "    </tr>\n",
       "    <tr>\n",
       "      <th>mean_exam_points</th>\n",
       "      <td>10000.0</td>\n",
       "      <td>64.4352</td>\n",
       "      <td>13.595024</td>\n",
       "      <td>33.0</td>\n",
       "      <td>55.00</td>\n",
       "      <td>63.0</td>\n",
       "      <td>74.00</td>\n",
       "      <td>100.0</td>\n",
       "    </tr>\n",
       "    <tr>\n",
       "      <th>choose</th>\n",
       "      <td>10000.0</td>\n",
       "      <td>0.1109</td>\n",
       "      <td>0.314024</td>\n",
       "      <td>0.0</td>\n",
       "      <td>0.00</td>\n",
       "      <td>0.0</td>\n",
       "      <td>0.00</td>\n",
       "      <td>1.0</td>\n",
       "    </tr>\n",
       "  </tbody>\n",
       "</table>\n",
       "</div>"
      ],
      "text/plain": [
       "                       count       mean          std    min      25%     50%  \\\n",
       "Id                   10000.0  4999.5000  2886.895680    0.0  2499.75  4999.5   \n",
       "age                  10000.0    45.8009     8.030274   23.0    40.00    46.0   \n",
       "years_of_experience  10000.0     1.9748     1.766883    0.0     0.00     2.0   \n",
       "lesson_price         10000.0  1702.4400   523.789062  200.0  1300.00  1550.0   \n",
       "qualification        10000.0     1.7243     0.798845    1.0     1.00     2.0   \n",
       "physics              10000.0     0.3706     0.482990    0.0     0.00     0.0   \n",
       "chemistry            10000.0     0.1215     0.326724    0.0     0.00     0.0   \n",
       "biology              10000.0     0.1172     0.321675    0.0     0.00     0.0   \n",
       "english              10000.0     0.0591     0.235824    0.0     0.00     0.0   \n",
       "geography            10000.0     0.0277     0.164120    0.0     0.00     0.0   \n",
       "history              10000.0     0.0180     0.132958    0.0     0.00     0.0   \n",
       "mean_exam_points     10000.0    64.4352    13.595024   33.0    55.00    63.0   \n",
       "choose               10000.0     0.1109     0.314024    0.0     0.00     0.0   \n",
       "\n",
       "                         75%     max  \n",
       "Id                   7499.25  9999.0  \n",
       "age                    51.00    68.0  \n",
       "years_of_experience     3.00     9.0  \n",
       "lesson_price         2150.00  3950.0  \n",
       "qualification           2.00     4.0  \n",
       "physics                 1.00     1.0  \n",
       "chemistry               0.00     1.0  \n",
       "biology                 0.00     1.0  \n",
       "english                 0.00     1.0  \n",
       "geography               0.00     1.0  \n",
       "history                 0.00     1.0  \n",
       "mean_exam_points       74.00   100.0  \n",
       "choose                  0.00     1.0  "
      ]
     },
     "execution_count": 57,
     "metadata": {},
     "output_type": "execute_result"
    }
   ],
   "source": [
    "train.describe().T"
   ]
  },
  {
   "cell_type": "code",
   "execution_count": 58,
   "id": "04b30de7",
   "metadata": {},
   "outputs": [
    {
     "data": {
      "image/png": "[encoded data removed]",
      "text/plain": [
       "<Figure size 1152x1008 with 16 Axes>"
      ]
     },
     "metadata": {
      "needs_background": "light"
     },
     "output_type": "display_data"
    }
   ],
   "source": [
    "train.hist(figsize =(16,14),bins = 15, grid = True)\n",
    "plt.show()"
   ]
  },
  {
   "cell_type": "code",
   "execution_count": 59,
   "id": "1e6ee69b",
   "metadata": {},
   "outputs": [
    {
     "data": {
      "image/png": "[encoded data removed]",
      "text/plain": [
       "<Figure size 1152x1008 with 12 Axes>"
      ]
     },
     "metadata": {
      "needs_background": "light"
     },
     "output_type": "display_data"
    }
   ],
   "source": [
    "test_df.hist(figsize =(16,14),bins = 15, grid = True)\n",
    "plt.show()"
   ]
  },
  {
   "cell_type": "code",
   "execution_count": 60,
   "id": "5d0e5fea",
   "metadata": {},
   "outputs": [
    {
     "data": {
      "text/plain": [
       "0       1.0\n",
       "1       4.0\n",
       "2       1.0\n",
       "3       1.0\n",
       "4       2.0\n",
       "       ... \n",
       "9995    4.0\n",
       "9996    4.0\n",
       "9997    2.0\n",
       "9998    2.0\n",
       "9999    2.0\n",
       "Name: age, Length: 10000, dtype: float64"
      ]
     },
     "execution_count": 60,
     "metadata": {},
     "output_type": "execute_result"
    }
   ],
   "source": [
    "pd.cut(train['age'],[0,40,46,51,100],labels=[1,2,3,4]).astype('float')"
   ]
  },
  {
   "cell_type": "code",
   "execution_count": 61,
   "id": "08ac5f25",
   "metadata": {},
   "outputs": [
    {
     "data": {
      "text/plain": [
       "2150.0"
      ]
     },
     "execution_count": 61,
     "metadata": {},
     "output_type": "execute_result"
    }
   ],
   "source": [
    "np.quantile(train['lesson_price'], .75)"
   ]
  },
  {
   "cell_type": "code",
   "execution_count": 62,
   "id": "597b4b02",
   "metadata": {},
   "outputs": [],
   "source": [
    "target = 'choose'\n",
    "y = train[target]\n",
    "X = train.drop(columns=['Id', 'choose'])\n",
    "test_X = test_df.drop(columns='Id')"
   ]
  },
  {
   "cell_type": "code",
   "execution_count": 63,
   "id": "7b0d737b",
   "metadata": {},
   "outputs": [],
   "source": [
    "def Standard(data):\n",
    "    means = np.mean(data, axis=0)\n",
    "    stds = np.std(data, axis=0)\n",
    "    for i in range(data.shape[0]):\n",
    "        for j in range(data.shape[1]):\n",
    "            data[i][j] = (data[i][j] - means[j])/stds[j]\n",
    "    return data"
   ]
  },
  {
   "cell_type": "code",
   "execution_count": 64,
   "id": "6a7fce02",
   "metadata": {},
   "outputs": [],
   "source": [
    "X = X.values\n",
    "y = y.values\n",
    "test_X = test_X.values"
   ]
  },
  {
   "cell_type": "code",
   "execution_count": 65,
   "id": "cd7f4289",
   "metadata": {},
   "outputs": [
    {
     "data": {
      "text/plain": [
       "array([[-1.73371969,  0.00807395,  1.90046712, ..., -0.17343093,\n",
       "        -0.12382046,  1.90506341],\n",
       "       [-1.36019396,  2.26652127,  0.19020064, ..., -0.17343093,\n",
       "        -0.12382046,  0.50485588],\n",
       "       [-0.23961676,  0.00807395, -0.94997702, ..., -0.17343093,\n",
       "        -0.12382046, -1.41121759],\n",
       "       ...,\n",
       "       [-0.23961676,  0.00807395, -0.85496222, ..., -0.17343093,\n",
       "        -0.12382046, -0.08470519],\n",
       "       [ 0.63194329,  1.70190944, -1.33003624, ..., -0.17343093,\n",
       "        -0.12382046, -0.01101005],\n",
       "       [-0.36412533, -1.12114971, -0.37988819, ..., -0.17343093,\n",
       "        -0.12382046, -1.70599812]])"
      ]
     },
     "execution_count": 65,
     "metadata": {},
     "output_type": "execute_result"
    }
   ],
   "source": [
    "Standard(X)\n",
    "Standard(test_X)"
   ]
  },
  {
   "cell_type": "code",
   "execution_count": 66,
   "id": "4c1598b7",
   "metadata": {},
   "outputs": [],
   "source": [
    "from sklearn.linear_model import LogisticRegression\n",
    "from sklearn.model_selection import GridSearchCV\n",
    "from sklearn import metrics"
   ]
  },
  {
   "cell_type": "code",
   "execution_count": 67,
   "id": "eb7223fa",
   "metadata": {},
   "outputs": [],
   "source": [
    "#LogisticRegression?"
   ]
  },
  {
   "cell_type": "code",
   "execution_count": 68,
   "id": "1ee5d6c6",
   "metadata": {},
   "outputs": [],
   "source": [
    "X_train, X_test, y_train, y_test = train_test_split(X, y, test_size=0.3, random_state=0)\n"
   ]
  },
  {
   "cell_type": "code",
   "execution_count": 69,
   "id": "eae3a982",
   "metadata": {},
   "outputs": [],
   "source": [
    "#LogisticRegression(\n",
    " #   penalty='l2',\n",
    "  #  *,\n",
    "   # dual=False,\n",
    "   # tol=0.0001,\n",
    "   # C=1.0,\n",
    "   # fit_intercept=True,\n",
    "    #intercept_scaling=1,\n",
    "   # class_weight=None,\n",
    "   # random_state=None,\n",
    "    #solver='lbfgs',\n",
    "   # max_iter=100,\n",
    "   # multi_class='auto',\n",
    "   # verbose=0,\n",
    "    #warm_start=False,\n",
    "    #n_jobs=None,\n",
    "    #l1_ratio=None,\n",
    "#)"
   ]
  },
  {
   "cell_type": "code",
   "execution_count": 70,
   "id": "026608d8",
   "metadata": {},
   "outputs": [],
   "source": [
    "logreg = LogisticRegression(max_iter=10000, random_state=0)"
   ]
  },
  {
   "cell_type": "code",
   "execution_count": 71,
   "id": "2f3d970d",
   "metadata": {},
   "outputs": [
    {
     "data": {
      "text/plain": [
       "LogisticRegression(max_iter=10000, random_state=0)"
      ]
     },
     "execution_count": 71,
     "metadata": {},
     "output_type": "execute_result"
    }
   ],
   "source": [
    "\n",
    "logreg.fit(X_train, y_train)"
   ]
  },
  {
   "cell_type": "code",
   "execution_count": 72,
   "id": "752aa433",
   "metadata": {},
   "outputs": [
    {
     "name": "stdout",
     "output_type": "stream",
     "text": [
      "Accuracy of logistic regression classifier on test set: 0.90\n"
     ]
    }
   ],
   "source": [
    "y_pred = logreg.predict(X_test)\n",
    "print('Accuracy of logistic regression classifier on test set: {:.2f}'.format(logreg.score(X_test, y_test)))"
   ]
  },
  {
   "cell_type": "code",
   "execution_count": 73,
   "id": "d28df74c",
   "metadata": {},
   "outputs": [
    {
     "name": "stdout",
     "output_type": "stream",
     "text": [
      "[[2621   32]\n",
      " [ 280   67]]\n"
     ]
    }
   ],
   "source": [
    "from sklearn.metrics import confusion_matrix\n",
    "confusion_matrix = confusion_matrix(y_test, y_pred)\n",
    "print(confusion_matrix)"
   ]
  },
  {
   "cell_type": "code",
   "execution_count": 74,
   "id": "cddb75f0",
   "metadata": {},
   "outputs": [
    {
     "name": "stdout",
     "output_type": "stream",
     "text": [
      "              precision    recall  f1-score   support\n",
      "\n",
      "           0       0.90      0.99      0.94      2653\n",
      "           1       0.68      0.19      0.30       347\n",
      "\n",
      "    accuracy                           0.90      3000\n",
      "   macro avg       0.79      0.59      0.62      3000\n",
      "weighted avg       0.88      0.90      0.87      3000\n",
      "\n"
     ]
    }
   ],
   "source": [
    "\n",
    "from sklearn.metrics import classification_report\n",
    "print(classification_report(y_test, y_pred))\n"
   ]
  },
  {
   "cell_type": "code",
   "execution_count": 75,
   "id": "b0b8ad23",
   "metadata": {},
   "outputs": [
    {
     "data": {
      "image/png": "[encoded data removed]",
      "text/plain": [
       "<Figure size 432x288 with 1 Axes>"
      ]
     },
     "metadata": {
      "needs_background": "light"
     },
     "output_type": "display_data"
    }
   ],
   "source": [
    "from sklearn.metrics import roc_auc_score\n",
    "from sklearn.metrics import roc_curve\n",
    "logit_roc_auc = roc_auc_score(y_test, logreg.predict(X_test))\n",
    "fpr, tpr, thresholds = roc_curve(y_test, logreg.predict_proba(X_test)[:,1])\n",
    "plt.figure()\n",
    "plt.plot(fpr, tpr, label='Logistic Regression (area = %0.2f)' % logit_roc_auc)\n",
    "plt.plot([0, 1], [0, 1],'r--')\n",
    "plt.xlim([0.0, 1.0])\n",
    "plt.ylim([0.0, 1.05])\n",
    "plt.xlabel('False Positive Rate')\n",
    "plt.ylabel('True Positive Rate')\n",
    "plt.title('Receiver operating characteristic')\n",
    "plt.legend(loc=\"lower right\")\n",
    "plt.savefig('Log_ROC')\n",
    "plt.show()\n"
   ]
  },
  {
   "cell_type": "code",
   "execution_count": 76,
   "id": "2d952a26",
   "metadata": {},
   "outputs": [
    {
     "data": {
      "text/plain": [
       "array([0, 0, 0, ..., 0, 1, 0], dtype=int64)"
      ]
     },
     "execution_count": 76,
     "metadata": {},
     "output_type": "execute_result"
    }
   ],
   "source": [
    "y_pred"
   ]
  },
  {
   "cell_type": "code",
   "execution_count": 77,
   "id": "2826afb7",
   "metadata": {},
   "outputs": [
    {
     "data": {
      "text/plain": [
       "LogisticRegression(max_iter=10000, random_state=0)"
      ]
     },
     "execution_count": 77,
     "metadata": {},
     "output_type": "execute_result"
    }
   ],
   "source": [
    "logreg.fit(X,y)"
   ]
  },
  {
   "cell_type": "code",
   "execution_count": 78,
   "id": "8d400aaf",
   "metadata": {},
   "outputs": [],
   "source": [
    "y_pred = logreg.predict_proba(test_X)"
   ]
  },
  {
   "cell_type": "code",
   "execution_count": 79,
   "id": "bafb7ad4",
   "metadata": {},
   "outputs": [
    {
     "data": {
      "text/plain": [
       "0       0.015029\n",
       "1       0.197244\n",
       "2       0.014314\n",
       "3       0.012636\n",
       "4       0.198351\n",
       "          ...   \n",
       "9995    0.137623\n",
       "9996    0.013712\n",
       "9997    0.343694\n",
       "9998    0.895968\n",
       "9999    0.022110\n",
       "Name: choose, Length: 10000, dtype: float64"
      ]
     },
     "execution_count": 79,
     "metadata": {},
     "output_type": "execute_result"
    }
   ],
   "source": [
    "df = pd.DataFrame(y_pred, columns = ['actual','choose'])\n",
    "df['choose']"
   ]
  },
  {
   "cell_type": "code",
   "execution_count": 80,
   "id": "fd592465",
   "metadata": {},
   "outputs": [],
   "source": [
    "submis = pd.concat([test_df['Id'], df['choose']], axis = 1)"
   ]
  },
  {
   "cell_type": "code",
   "execution_count": 81,
   "id": "8f0cc0fd",
   "metadata": {},
   "outputs": [
    {
     "data": {
      "text/html": [
       "<div>\n",
       "<style scoped>\n",
       "    .dataframe tbody tr th:only-of-type {\n",
       "        vertical-align: middle;\n",
       "    }\n",
       "\n",
       "    .dataframe tbody tr th {\n",
       "        vertical-align: top;\n",
       "    }\n",
       "\n",
       "    .dataframe thead th {\n",
       "        text-align: right;\n",
       "    }\n",
       "</style>\n",
       "<table border=\"1\" class=\"dataframe\">\n",
       "  <thead>\n",
       "    <tr style=\"text-align: right;\">\n",
       "      <th></th>\n",
       "      <th>Id</th>\n",
       "      <th>choose</th>\n",
       "    </tr>\n",
       "  </thead>\n",
       "  <tbody>\n",
       "    <tr>\n",
       "      <th>0</th>\n",
       "      <td>10000</td>\n",
       "      <td>0.015029</td>\n",
       "    </tr>\n",
       "    <tr>\n",
       "      <th>1</th>\n",
       "      <td>10001</td>\n",
       "      <td>0.197244</td>\n",
       "    </tr>\n",
       "    <tr>\n",
       "      <th>2</th>\n",
       "      <td>10002</td>\n",
       "      <td>0.014314</td>\n",
       "    </tr>\n",
       "    <tr>\n",
       "      <th>3</th>\n",
       "      <td>10003</td>\n",
       "      <td>0.012636</td>\n",
       "    </tr>\n",
       "    <tr>\n",
       "      <th>4</th>\n",
       "      <td>10004</td>\n",
       "      <td>0.198351</td>\n",
       "    </tr>\n",
       "    <tr>\n",
       "      <th>...</th>\n",
       "      <td>...</td>\n",
       "      <td>...</td>\n",
       "    </tr>\n",
       "    <tr>\n",
       "      <th>9995</th>\n",
       "      <td>19995</td>\n",
       "      <td>0.137623</td>\n",
       "    </tr>\n",
       "    <tr>\n",
       "      <th>9996</th>\n",
       "      <td>19996</td>\n",
       "      <td>0.013712</td>\n",
       "    </tr>\n",
       "    <tr>\n",
       "      <th>9997</th>\n",
       "      <td>19997</td>\n",
       "      <td>0.343694</td>\n",
       "    </tr>\n",
       "    <tr>\n",
       "      <th>9998</th>\n",
       "      <td>19998</td>\n",
       "      <td>0.895968</td>\n",
       "    </tr>\n",
       "    <tr>\n",
       "      <th>9999</th>\n",
       "      <td>19999</td>\n",
       "      <td>0.022110</td>\n",
       "    </tr>\n",
       "  </tbody>\n",
       "</table>\n",
       "<p>10000 rows × 2 columns</p>\n",
       "</div>"
      ],
      "text/plain": [
       "         Id    choose\n",
       "0     10000  0.015029\n",
       "1     10001  0.197244\n",
       "2     10002  0.014314\n",
       "3     10003  0.012636\n",
       "4     10004  0.198351\n",
       "...     ...       ...\n",
       "9995  19995  0.137623\n",
       "9996  19996  0.013712\n",
       "9997  19997  0.343694\n",
       "9998  19998  0.895968\n",
       "9999  19999  0.022110\n",
       "\n",
       "[10000 rows x 2 columns]"
      ]
     },
     "execution_count": 81,
     "metadata": {},
     "output_type": "execute_result"
    }
   ],
   "source": [
    "submis"
   ]
  },
  {
   "cell_type": "code",
   "execution_count": 84,
   "id": "38e1b9ab",
   "metadata": {},
   "outputs": [],
   "source": [
    "submis.to_csv('../../../../../Desktop/predict.csv', index=None)"
   ]
  },
  {
   "cell_type": "code",
   "execution_count": null,
   "id": "d4ff0794",
   "metadata": {},
   "outputs": [],
   "source": []
  },
  {
   "cell_type": "code",
   "execution_count": null,
   "id": "d6cbebbc",
   "metadata": {},
   "outputs": [],
   "source": []
  },
  {
   "cell_type": "code",
   "execution_count": null,
   "id": "93a58450",
   "metadata": {},
   "outputs": [],
   "source": []
  }
 ],
 "metadata": {
  "kernelspec": {
   "display_name": "Python 3",
   "language": "python",
   "name": "python3"
  },
  "language_info": {
   "codemirror_mode": {
    "name": "ipython",
    "version": 3
   },
   "file_extension": ".py",
   "mimetype": "text/x-python",
   "name": "python",
   "nbconvert_exporter": "python",
   "pygments_lexer": "ipython3",
   "version": "3.8.8"
  }
 },
 "nbformat": 4,
 "nbformat_minor": 5
}
